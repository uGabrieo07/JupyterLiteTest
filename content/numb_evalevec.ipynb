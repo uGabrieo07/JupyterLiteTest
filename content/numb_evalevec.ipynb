{
 "cells": [],
 "nbformat": 4,
 "nbformat_minor": 5,
 "metadata": {}
}
